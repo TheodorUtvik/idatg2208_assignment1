{
 "cells": [
  {
   "cell_type": "markdown",
   "id": "f186833d",
   "metadata": {},
   "source": [
    "# 1.4 Train-Test Split\n",
    "\n",
    "### Scaling, folding, evaluating, splitting, training, predicting, finding metric for model."
   ]
  },
  {
   "cell_type": "code",
   "execution_count": null,
   "id": "f6071c72",
   "metadata": {},
   "outputs": [
    {
     "name": "stdout",
     "output_type": "stream",
     "text": [
      "Alcohol:  MSE = 0.4972592358686095 ± 0.003275680507946046 | RMSE = 0.7040077046357933 | R2 = 0.2335195248005673\n",
      "Chlorides: MSE = 0.6405079325130248 ± 0.0034978162623649084 | RMSE = 0.7994609519929127 | R2 = 0.0108859466569311\n"
     ]
    }
   ],
   "source": [
    "from sklearn.model_selection import KFold\n",
    "from sklearn.metrics import mean_squared_error, r2_score\n",
    "from sklearn.linear_model import SGDRegressor\n",
    "from sklearn.preprocessing import StandardScaler\n",
    "import numpy as np\n",
    "import pandas as pd\n",
    "df = pd.read_csv(\"/Users/theodorsjetnanutvik/Desktop/MaskinLæring/assignment1/data/WineQT.csv\")\n",
    "\n",
    "# Features\n",
    "X_alcohol = df[[\"alcohol\"]].values\n",
    "X_chlorides = df[[\"chlorides\"]].values\n",
    "y = df[\"quality\"].values\n",
    "\n",
    "# Scaling\n",
    "scaler = StandardScaler()\n",
    "\n",
    "# K-Fold Cross Validation (5 splits, shuffle for randomness)\n",
    "kf = KFold(n_splits=5, shuffle=True, random_state=42)\n",
    "\n",
    "def evaluate_model(X, y):\n",
    "    mse_scores, rmse_scores, r2_scores = [], [], [] # 3 empty lists to store metrics for each fold\n",
    "    \n",
    "    for train_idx, test_idx in kf.split(X): # For each fold in K-Fold generate train and test indices\n",
    "        # Split\n",
    "        X_train, X_test = X[train_idx], X[test_idx]\n",
    "        y_train, y_test = y[train_idx], y[test_idx]\n",
    "        \n",
    "        # Scale\n",
    "        X_train_scaled = scaler.fit_transform(X_train) # Learn scaling from train set\n",
    "        X_test_scaled = scaler.transform(X_test) # Apply same scaling to test set, to avoid data leakage\n",
    "        \n",
    "        # Train model\n",
    "        sgd_reg = SGDRegressor(max_iter=1000, tol=1e-3, eta0=0.01, random_state=42) # Stochastic Gradient Descent Regressor\n",
    "        sgd_reg.fit(X_train_scaled, y_train) # Fit model to training data\n",
    "        \n",
    "        # Predict\n",
    "        y_pred = sgd_reg.predict(X_test_scaled) # Predict on unseen test data using trained model\n",
    "        \n",
    "        # Metrics\n",
    "        mse = mean_squared_error(y_test, y_pred) # Mean Squared Error\n",
    "        rmse = np.sqrt(mse) # Root Mean Squared Error\n",
    "        r2 = r2_score(y_test, y_pred) # R-squared\n",
    "        \n",
    "        # Saving metrics for this fold\n",
    "        mse_scores.append(mse) \n",
    "        rmse_scores.append(rmse)\n",
    "        r2_scores.append(r2)\n",
    "    \n",
    "    return mse_scores, rmse_scores, r2_scores # Return lists with metrics across folds\n",
    "\n",
    "# Evaluate for alcohol\n",
    "mse_a, rmse_a, r2_a = evaluate_model(X_alcohol, y)\n",
    "\n",
    "# Evaluate for chlorides\n",
    "mse_c, rmse_c, r2_c = evaluate_model(X_chlorides, y)\n",
    "\n",
    "print(\"Alcohol:  MSE =\", np.mean(mse_a), \"±\", np.var(mse_a),\n",
    "      \"| RMSE =\", np.mean(rmse_a), \"| R2 =\", np.mean(r2_a))\n",
    "print(\"Chlorides: MSE =\", np.mean(mse_c), \"±\", np.var(mse_c),\n",
    "      \"| RMSE =\", np.mean(rmse_c), \"| R2 =\", np.mean(r2_c))\n"
   ]
  },
  {
   "cell_type": "markdown",
   "id": "bd7a3b88",
   "metadata": {},
   "source": [
    "### 1.4.1 How well does alcohol alone predict wine quality in each split?\n",
    "\n",
    "Using only alcohol as predictor, the model achieves an **RMSE** of approximately $0.70$ and an $R^2$ of $0.23$. This shows alcohol explains some variation in wine quality.\n",
    "\n",
    "---"
   ]
  },
  {
   "cell_type": "markdown",
   "id": "8db46d33",
   "metadata": {},
   "source": [
    "### 1.4.2 How well does chloride alone predict wine quality in each split?\n",
    "\n",
    "With chloride as predictor, the model as an **RMSE** of aobut $0.80$ and an $R^2$ close to $0.01$, indicating chloride levels provide almost no predictive power for wine quality.\n",
    "\n",
    "---"
   ]
  },
  {
   "cell_type": "markdown",
   "id": "c673ede2",
   "metadata": {},
   "source": [
    "### 1.4.3 Do you think the model underfits? Why?\n",
    "\n",
    "With reason we can say that the model underfit. Both models underfit the data because they rely on a single predictor while wine quality depends on multiple features. The low $R^2$ values suggest that the models capture only a small fraction of the true variability.\n",
    "\n",
    "---"
   ]
  },
  {
   "cell_type": "markdown",
   "id": "a3294131",
   "metadata": {},
   "source": [
    "### 1.4.4 \n",
    "\n",
    "The computed mean and variance of the evaluation metrics across the 5 folds for\n",
    "both alcohol and chlorides as predictors:\n",
    "\n",
    "- **Alcohol**  \n",
    "  - MSE ≈ 0.50 (variance ≈ 0.0033)  \n",
    "  - RMSE ≈ 0.70  \n",
    "  - R² ≈ 0.23  \n",
    "\n",
    "- **Chlorides**  \n",
    "  - MSE ≈ 0.64 (variance ≈ 0.0035)  \n",
    "  - RMSE ≈ 0.80  \n",
    "  - R² ≈ 0.01  \n",
    "\n",
    "The low variances indicate that the results are consistent across all folds. However,\n",
    "the alcohol-based model consistently achieves lower error and higher R² than the\n",
    "chloride-based model, showing that alcohol is a stronger and more reliable predictor\n",
    "of wine quality."
   ]
  }
 ],
 "metadata": {
  "kernelspec": {
   "display_name": ".venv",
   "language": "python",
   "name": "python3"
  },
  "language_info": {
   "codemirror_mode": {
    "name": "ipython",
    "version": 3
   },
   "file_extension": ".py",
   "mimetype": "text/x-python",
   "name": "python",
   "nbconvert_exporter": "python",
   "pygments_lexer": "ipython3",
   "version": "3.13.2"
  }
 },
 "nbformat": 4,
 "nbformat_minor": 5
}
